{
 "cells": [
  {
   "cell_type": "code",
   "execution_count": null,
   "id": "7836c8fe",
   "metadata": {},
   "outputs": [],
   "source": [
    "import pandas as pd\n",
    "import matplotlib.pyplot as plt\n",
    "import findspark\n",
    "findspark.init()\n",
    "import pyspark\n",
    "from pyspark.sql import SparkSession\n",
    "sc = pyspark.SparkContext(appName='Appl', master='yarn')\n",
    "spark = SparkSession.builder.getOrCreate()\n",
    "#especificamos y cargamos datos\n",
    "ruta=\"C:/Users/ofeliafabiola.galvan/Documents/FGITHU/datasetproyecto-las-tres-partes/Course_info.csv\"\n",
    "file_type = \"csv\"\n",
    "infer_schema = \"false\"\n",
    "first_rower_his_header = \"true\"\n",
    "delimiter = \",\"\n",
    "df1 =spark.read.format(file_type)\\\n",
    ".option(\"inferSchema\",infer_schema)\\\n",
    ".option(\"header\",first_row_is_header)\\\n",
    ".option(\"sep\",delimiter)\\\n",
    ".load(ruta)\n",
    "archivo = df1.toPandas()\n",
    "sc.stop()\n",
    "g = sns.FacetGrid(archivo, height=5, aspect=1)\n",
    "g= g.map(plt.scatter, \"num_subscribers\", \"topic\")\n",
    "plt.show()"
   ]
  },
  {
   "cell_type": "code",
   "execution_count": null,
   "id": "33ea2d63",
   "metadata": {},
   "outputs": [],
   "source": [
    "import pandas as pd\n",
    "import matplotlib.pyplot as plt\n",
    "import findspark\n",
    "findspark.init()\n",
    "import pyspark\n",
    "from pyspark.sql import SparkSession\n",
    "sc = pyspark.SparkContext(appName='Appl', master='yarn')\n",
    "spark = SparkSession.builder.getOrCreate()\n",
    "#especificamos y cargamos datos\n",
    "ruta=\"C:/Users/ofeliafabiola.galvan/Documents/FGITHU/datasetproyecto-las-tres-partes/Course_info.csv\"\n",
    "file_type = \"csv\"\n",
    "infer_schema = \"false\"\n",
    "first_rower_his_header = \"true\"\n",
    "delimiter = \",\"\n",
    "df1 =spark.read.format(file_type)\\\n",
    ".option(\"inferSchema\",infer_schema)\\\n",
    ".option(\"header\",first_row_is_header)\\\n",
    ".option(\"sep\",delimiter)\\\n",
    ".load(ruta)\n",
    "archivo = df1.toPandas()\n",
    "sc.stop()\n",
    "g = sns.FacetGrid(archivo, height=5, aspect=1)\n",
    "g= g.map(plt.scatter, \"num_subscribers\", [archivo.topic == 'python'])\n",
    "plt.show()"
   ]
  },
  {
   "cell_type": "code",
   "execution_count": null,
   "id": "173659d3",
   "metadata": {},
   "outputs": [],
   "source": []
  }
 ],
 "metadata": {
  "kernelspec": {
   "display_name": "Python 3 (ipykernel)",
   "language": "python",
   "name": "python3"
  },
  "language_info": {
   "codemirror_mode": {
    "name": "ipython",
    "version": 3
   },
   "file_extension": ".py",
   "mimetype": "text/x-python",
   "name": "python",
   "nbconvert_exporter": "python",
   "pygments_lexer": "ipython3",
   "version": "3.9.15"
  }
 },
 "nbformat": 4,
 "nbformat_minor": 5
}
