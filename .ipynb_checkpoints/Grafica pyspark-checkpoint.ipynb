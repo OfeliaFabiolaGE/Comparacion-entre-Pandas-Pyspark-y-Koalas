{
 "cells": [
  {
   "cell_type": "code",
   "execution_count": null,
   "id": "91740020",
   "metadata": {},
   "outputs": [],
   "source": [
    "import pandas as pd\n",
    "import matplotlib.pulot as plt\n",
    "import findspark\n",
    "findspark.init()\n",
    "import pyspark\n",
    "from pyspark.sql import SparkSession\n",
    "sc = pyspark.SparkContext(appName='Appl', master='yarn')\n",
    "spark = SparkSession.builder.getOrCreate()\n",
    "#especificamos y cargamos datos\n",
    "ruta=\"C:/Users/ofeliafabiola.galvan/Documents/FGITHU/datasetproyecto-las-tres-partes/Course_info.csv\"\n",
    "file_type = \"csv\"\n",
    "infer_schema = \"false\"\n",
    "first_rower_his_header = \"true\"\n",
    "delimiter = \",\"\n",
    "df1 =spark"
   ]
  }
 ],
 "metadata": {
  "kernelspec": {
   "display_name": "Python 3 (ipykernel)",
   "language": "python",
   "name": "python3"
  },
  "language_info": {
   "codemirror_mode": {
    "name": "ipython",
    "version": 3
   },
   "file_extension": ".py",
   "mimetype": "text/x-python",
   "name": "python",
   "nbconvert_exporter": "python",
   "pygments_lexer": "ipython3",
   "version": "3.9.15"
  }
 },
 "nbformat": 4,
 "nbformat_minor": 5
}
