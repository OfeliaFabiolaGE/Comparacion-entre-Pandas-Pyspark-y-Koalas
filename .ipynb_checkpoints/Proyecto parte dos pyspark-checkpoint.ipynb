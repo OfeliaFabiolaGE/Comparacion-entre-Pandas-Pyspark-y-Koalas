{
 "cells": [
  {
   "cell_type": "code",
   "execution_count": null,
   "id": "54f99d56",
   "metadata": {},
   "outputs": [],
   "source": [
    "pip install findspark"
   ]
  },
  {
   "cell_type": "code",
   "execution_count": 1,
   "id": "38e0d522",
   "metadata": {
    "scrolled": true
   },
   "outputs": [],
   "source": [
    "import findspark\n",
    "findspark.init()"
   ]
  },
  {
   "cell_type": "code",
   "execution_count": 2,
   "id": "046a81c1",
   "metadata": {},
   "outputs": [],
   "source": [
    "import pyspark"
   ]
  },
  {
   "cell_type": "code",
   "execution_count": 3,
   "id": "7460e23b",
   "metadata": {},
   "outputs": [
    {
     "name": "stdout",
     "output_type": "stream",
     "text": [
      "CPU times: total: 0 ns\n",
      "Wall time: 0 ns\n"
     ]
    }
   ],
   "source": [
    "from pyspark.sql import SparkSession\n",
    "spark=SparkSession.builder.appName('Ejer').getOrCreate()\n",
    "%time"
   ]
  },
  {
   "cell_type": "code",
   "execution_count": 4,
   "id": "179a0d50",
   "metadata": {},
   "outputs": [],
   "source": [
    "df1 = spark.read.option(\"header\",\"true\")\n",
    ".csv(\"C:/Users/ofeliafabiola.galvan/Documents/FGITHU/datasetproyecto-las-tres-partes/Course_info.csv\")"
   ]
  },
  {
   "cell_type": "code",
   "execution_count": 6,
   "id": "12815f49",
   "metadata": {},
   "outputs": [
    {
     "name": "stdout",
     "output_type": "stream",
     "text": [
      "CPU times: total: 0 ns\n",
      "Wall time: 284 ms\n"
     ]
    },
    {
     "data": {
      "text/plain": [
       "209734"
      ]
     },
     "execution_count": 6,
     "metadata": {},
     "output_type": "execute_result"
    }
   ],
   "source": [
    "#Equivalente al .shape  que muestra e\n",
    "df1.count()\n",
    "%time df1.count()"
   ]
  },
  {
   "cell_type": "code",
   "execution_count": 7,
   "id": "d44c4092",
   "metadata": {},
   "outputs": [
    {
     "name": "stdout",
     "output_type": "stream",
     "text": [
      "CPU times: total: 0 ns\n",
      "Wall time: 19.1 s\n"
     ]
    },
    {
     "data": {
      "text/plain": [
       "DataFrame[summary: string, id: string, title: string, is_paid: string, price: string, headline: string, num_subscribers: string, avg_rating: string, num_reviews: string, num_comments: string, num_lectures: string, content_length_min: string, published_time: string, last_update_date: string, category: string, subcategory: string, topic: string, language: string, course_url: string, instructor_name: string, instructor_url: string]"
      ]
     },
     "execution_count": 7,
     "metadata": {},
     "output_type": "execute_result"
    }
   ],
   "source": [
    "#Equivalente a .info en pandas para ver el tipo de datos que contiene el dataset\n",
    "df1.describe()\n",
    "%time df1.describe()"
   ]
  },
  {
   "cell_type": "code",
   "execution_count": 8,
   "id": "429e660d",
   "metadata": {},
   "outputs": [
    {
     "name": "stdout",
     "output_type": "stream",
     "text": [
      "root\n",
      " |-- id: string (nullable = true)\n",
      " |-- title: string (nullable = true)\n",
      " |-- is_paid: string (nullable = true)\n",
      " |-- price: string (nullable = true)\n",
      " |-- headline: string (nullable = true)\n",
      " |-- num_subscribers: string (nullable = true)\n",
      " |-- avg_rating: string (nullable = true)\n",
      " |-- num_reviews: string (nullable = true)\n",
      " |-- num_comments: string (nullable = true)\n",
      " |-- num_lectures: string (nullable = true)\n",
      " |-- content_length_min: string (nullable = true)\n",
      " |-- published_time: string (nullable = true)\n",
      " |-- last_update_date: string (nullable = true)\n",
      " |-- category: string (nullable = true)\n",
      " |-- subcategory: string (nullable = true)\n",
      " |-- topic: string (nullable = true)\n",
      " |-- language: string (nullable = true)\n",
      " |-- course_url: string (nullable = true)\n",
      " |-- instructor_name: string (nullable = true)\n",
      " |-- instructor_url: string (nullable = true)\n",
      "\n",
      "CPU times: total: 0 ns\n",
      "Wall time: 0 ns\n"
     ]
    },
    {
     "data": {
      "text/plain": [
       "<bound method DataFrame.printSchema of DataFrame[id: string, title: string, is_paid: string, price: string, headline: string, num_subscribers: string, avg_rating: string, num_reviews: string, num_comments: string, num_lectures: string, content_length_min: string, published_time: string, last_update_date: string, category: string, subcategory: string, topic: string, language: string, course_url: string, instructor_name: string, instructor_url: string]>"
      ]
     },
     "execution_count": 8,
     "metadata": {},
     "output_type": "execute_result"
    }
   ],
   "source": [
    "#Equivalente a .info en este caso para ver el tipo de datos en formato parecido al que da .info\n",
    "df1.printSchema()\n",
    "%time df1.printSchema"
   ]
  },
  {
   "cell_type": "code",
   "execution_count": 10,
   "id": "66905d25",
   "metadata": {
    "scrolled": true
   },
   "outputs": [
    {
     "name": "stdout",
     "output_type": "stream",
     "text": [
      "+------+--------------------+-------+------+--------------------+---------------+----------+-----------+------------+------------+------------------+--------------------+----------------+---------+-------------------+-------------+--------+--------------------+---------------+------------------+\n",
      "|    id|               title|is_paid| price|            headline|num_subscribers|avg_rating|num_reviews|num_comments|num_lectures|content_length_min|      published_time|last_update_date| category|        subcategory|        topic|language|          course_url|instructor_name|    instructor_url|\n",
      "+------+--------------------+-------+------+--------------------+---------------+----------+-----------+------------+------------+------------------+--------------------+----------------+---------+-------------------+-------------+--------+--------------------+---------------+------------------+\n",
      "|4715.0|Online Vegan Vege...|   True| 24.99|Learn to cook del...|         2231.0|      3.75|      134.0|        42.0|        37.0|            1268.0|2010-08-05T22:06:13Z|      2020-11-06|Lifestyle|    Food & Beverage|Vegan Cooking| English|/course/vegan-veg...|    Angela Poch| /user/angelapoch/|\n",
      "|1769.0|The Lean Startup ...|  False|   0.0|\"Debunking Myths ...|        26474.0|       4.5|      709.0|       112.0|         9.0|              88.0|2010-01-12T18:09:46Z|            null| Business|   Entrepreneurship| Lean Startup| English|/course/the-lean-...|      Eric Ries|   /user/ericries/|\n",
      "|5664.0|How To Become a V...|   True| 19.99|Get the tools you...|         1713.0|       4.4|       41.0|        13.0|        14.0|              82.0|2010-10-13T18:07:17Z|      2019-10-09|Lifestyle|    Other Lifestyle|Vegan Cooking| English|/course/see-my-pe...|    Angela Poch| /user/angelapoch/|\n",
      "|7723.0|How to Train a Puppy|   True|199.99|Train your puppy ...|         4988.0|       4.8|      395.0|        88.0|        36.0|            1511.0|2011-06-20T20:08:38Z|      2016-01-13|Lifestyle|Pet Care & Training| Pet Training| English|/course/complete-...|     Ian Dunbar| /user/ian-dunbar/|\n",
      "|8157.0|Web Design from t...|   True|159.99|Learn web design ...|         1266.0|      4.75|       38.0|        12.0|        38.0|             569.0|2011-06-23T18:31:20Z|            null|   Design|         Web Design|   Web Design| English|/course/web-desig...| E Learning Lab|/user/edwin-ang-2/|\n",
      "+------+--------------------+-------+------+--------------------+---------------+----------+-----------+------------+------------+------------------+--------------------+----------------+---------+-------------------+-------------+--------+--------------------+---------------+------------------+\n",
      "only showing top 5 rows\n",
      "\n",
      "+------+--------------------+-------+------+--------------------+---------------+----------+-----------+------------+------------+------------------+--------------------+----------------+---------+-------------------+-------------+--------+--------------------+---------------+------------------+\n",
      "|    id|               title|is_paid| price|            headline|num_subscribers|avg_rating|num_reviews|num_comments|num_lectures|content_length_min|      published_time|last_update_date| category|        subcategory|        topic|language|          course_url|instructor_name|    instructor_url|\n",
      "+------+--------------------+-------+------+--------------------+---------------+----------+-----------+------------+------------+------------------+--------------------+----------------+---------+-------------------+-------------+--------+--------------------+---------------+------------------+\n",
      "|4715.0|Online Vegan Vege...|   True| 24.99|Learn to cook del...|         2231.0|      3.75|      134.0|        42.0|        37.0|            1268.0|2010-08-05T22:06:13Z|      2020-11-06|Lifestyle|    Food & Beverage|Vegan Cooking| English|/course/vegan-veg...|    Angela Poch| /user/angelapoch/|\n",
      "|1769.0|The Lean Startup ...|  False|   0.0|\"Debunking Myths ...|        26474.0|       4.5|      709.0|       112.0|         9.0|              88.0|2010-01-12T18:09:46Z|            null| Business|   Entrepreneurship| Lean Startup| English|/course/the-lean-...|      Eric Ries|   /user/ericries/|\n",
      "|5664.0|How To Become a V...|   True| 19.99|Get the tools you...|         1713.0|       4.4|       41.0|        13.0|        14.0|              82.0|2010-10-13T18:07:17Z|      2019-10-09|Lifestyle|    Other Lifestyle|Vegan Cooking| English|/course/see-my-pe...|    Angela Poch| /user/angelapoch/|\n",
      "|7723.0|How to Train a Puppy|   True|199.99|Train your puppy ...|         4988.0|       4.8|      395.0|        88.0|        36.0|            1511.0|2011-06-20T20:08:38Z|      2016-01-13|Lifestyle|Pet Care & Training| Pet Training| English|/course/complete-...|     Ian Dunbar| /user/ian-dunbar/|\n",
      "|8157.0|Web Design from t...|   True|159.99|Learn web design ...|         1266.0|      4.75|       38.0|        12.0|        38.0|             569.0|2011-06-23T18:31:20Z|            null|   Design|         Web Design|   Web Design| English|/course/web-desig...| E Learning Lab|/user/edwin-ang-2/|\n",
      "+------+--------------------+-------+------+--------------------+---------------+----------+-----------+------------+------------+------------------+--------------------+----------------+---------+-------------------+-------------+--------+--------------------+---------------+------------------+\n",
      "only showing top 5 rows\n",
      "\n",
      "CPU times: total: 0 ns\n",
      "Wall time: 99.5 ms\n"
     ]
    }
   ],
   "source": [
    "#Equivalente a .head o .tail, solo que aqui se especifica la cantidad que columnas que queremos que nos muestre el show se usa para ver \n",
    "#los datos\n",
    "df1.show(5)\n",
    "%time df1.show(5)"
   ]
  },
  {
   "cell_type": "code",
   "execution_count": 11,
   "id": "0ea83473",
   "metadata": {},
   "outputs": [
    {
     "name": "stdout",
     "output_type": "stream",
     "text": [
      "+-------+------------------+-------------------------------+--------------------+------------------+------------------------+--------------------+--------------------+------------------+--------------------+-------------------+------------------+------------------+-----------------+--------------------+------------------+------------------+--------------------+--------------------+-------------------+------------------------+\n",
      "|summary|                id|                          title|             is_paid|             price|                headline|     num_subscribers|          avg_rating|       num_reviews|        num_comments|       num_lectures|content_length_min|    published_time| last_update_date|            category|       subcategory|             topic|            language|          course_url|    instructor_name|          instructor_url|\n",
      "+-------+------------------+-------------------------------+--------------------+------------------+------------------------+--------------------+--------------------+------------------+--------------------+-------------------+------------------+------------------+-----------------+--------------------+------------------+------------------+--------------------+--------------------+-------------------+------------------------+\n",
      "|  count|            209734|                         209734|              209734|            209734|                  209707|              209734|              209734|            209734|              209733|             209733|            209733|            209733|           209596|              209733|            209733|            208775|              209733|              209733|             209728|                  209306|\n",
      "|   mean|3015403.0864905072|                           null|                null|  81.6694797131051|       99.69870967741934|   3094.260632782659|    9.55422061472927| 243.7999955110807|   46.04855645213791| 36.874520123551825|265.40956938250156|229.22325119933555|233.8099173553719|  174.56521739130434|293.72222222222223|            708.75|                null|                null|               null|                    null|\n",
      "| stddev| 1342558.019652044|                           null|                null|117.32061242852609|       358.6981274158159|  15530.317699155803|  1392.5248055338147|2430.0870638345023|   519.4166288574734|  88.06080524089452| 461.2728308337036| 503.3553394020091|889.0950672270616|  319.54360872093207| 512.6309078785811|1292.9520163821496|                null|                null|               null|                    null|\n",
      "|    min|         1000010.0| \\bGit으로 만드는 전설의 레시피|  Network Plus 2022\"|               DGS|    \\bTừ cơ bản đến c...|    CSS3 and Jquery\"|  Java or PHP you...|        \"\"-lingual|  \"\"window\"\" objects| Human Resources\"\"\"|               0.0|               0.0|              0.0|                 0.0|               0.0|              .NET|2014-11-13T02:43:35Z|/course/-77e-well...|\"\"\" NetworkHelp \"\"\"|                     MBA|\n",
      "|    max|          999988.0|｢PMP®認定試験｣で一発合格を目...|ЭКСПЕРТ!\"\"-Курс№9...|              True|～魂の目的を知り活かす～|Узнайте Как Созда...|Новые знания-всег...|         astrology|plant emortions &...|        Interviews\"|             999.0|             997.0|           9573.0|Teaching & Academics|              Yoga|            zBrush|iOS Game Development|      eBook Creation|           Ｍax Liu|石崎力也 (RIKIYA ISHI...|\n",
      "+-------+------------------+-------------------------------+--------------------+------------------+------------------------+--------------------+--------------------+------------------+--------------------+-------------------+------------------+------------------+-----------------+--------------------+------------------+------------------+--------------------+--------------------+-------------------+------------------------+\n",
      "\n",
      "+-------+------------------+-------------------------------+--------------------+------------------+------------------------+--------------------+--------------------+------------------+--------------------+-------------------+------------------+------------------+-----------------+--------------------+------------------+------------------+--------------------+--------------------+-------------------+------------------------+\n",
      "|summary|                id|                          title|             is_paid|             price|                headline|     num_subscribers|          avg_rating|       num_reviews|        num_comments|       num_lectures|content_length_min|    published_time| last_update_date|            category|       subcategory|             topic|            language|          course_url|    instructor_name|          instructor_url|\n",
      "+-------+------------------+-------------------------------+--------------------+------------------+------------------------+--------------------+--------------------+------------------+--------------------+-------------------+------------------+------------------+-----------------+--------------------+------------------+------------------+--------------------+--------------------+-------------------+------------------------+\n",
      "|  count|            209734|                         209734|              209734|            209734|                  209707|              209734|              209734|            209734|              209733|             209733|            209733|            209733|           209596|              209733|            209733|            208775|              209733|              209733|             209728|                  209306|\n",
      "|   mean|3015403.0864905072|                           null|                null|  81.6694797131051|       99.69870967741934|   3094.260632782659|    9.55422061472927| 243.7999955110807|   46.04855645213791| 36.874520123551825|265.40956938250156|229.22325119933555|233.8099173553719|  174.56521739130434|293.72222222222223|            708.75|                null|                null|               null|                    null|\n",
      "| stddev| 1342558.019652044|                           null|                null|117.32061242852609|       358.6981274158159|  15530.317699155803|  1392.5248055338147|2430.0870638345023|   519.4166288574734|  88.06080524089452| 461.2728308337036| 503.3553394020091|889.0950672270616|  319.54360872093207| 512.6309078785811|1292.9520163821496|                null|                null|               null|                    null|\n",
      "|    min|         1000010.0| \\bGit으로 만드는 전설의 레시피|  Network Plus 2022\"|               DGS|    \\bTừ cơ bản đến c...|    CSS3 and Jquery\"|  Java or PHP you...|        \"\"-lingual|  \"\"window\"\" objects| Human Resources\"\"\"|               0.0|               0.0|              0.0|                 0.0|               0.0|              .NET|2014-11-13T02:43:35Z|/course/-77e-well...|\"\"\" NetworkHelp \"\"\"|                     MBA|\n",
      "|    max|          999988.0|｢PMP®認定試験｣で一発合格を目...|ЭКСПЕРТ!\"\"-Курс№9...|              True|～魂の目的を知り活かす～|Узнайте Как Созда...|Новые знания-всег...|         astrology|plant emortions &...|        Interviews\"|             999.0|             997.0|           9573.0|Teaching & Academics|              Yoga|            zBrush|iOS Game Development|      eBook Creation|           Ｍax Liu|石崎力也 (RIKIYA ISHI...|\n",
      "+-------+------------------+-------------------------------+--------------------+------------------+------------------------+--------------------+--------------------+------------------+--------------------+-------------------+------------------+------------------+-----------------+--------------------+------------------+------------------+--------------------+--------------------+-------------------+------------------------+\n",
      "\n",
      "CPU times: total: 15.6 ms\n",
      "Wall time: 17.9 s\n"
     ]
    }
   ],
   "source": [
    "#equivalente al .describe de pandas python\n",
    "df1.describe().show()\n",
    "%time df1.describe().show()\n"
   ]
  },
  {
   "cell_type": "code",
   "execution_count": 12,
   "id": "72159b7c",
   "metadata": {},
   "outputs": [
    {
     "name": "stdout",
     "output_type": "stream",
     "text": [
      "+------+------+\n",
      "|    id| price|\n",
      "+------+------+\n",
      "|4715.0| 24.99|\n",
      "|1769.0|   0.0|\n",
      "|5664.0| 19.99|\n",
      "|7723.0|199.99|\n",
      "|8157.0|159.99|\n",
      "+------+------+\n",
      "only showing top 5 rows\n",
      "\n",
      "+------+------+\n",
      "|    id| price|\n",
      "+------+------+\n",
      "|4715.0| 24.99|\n",
      "|1769.0|   0.0|\n",
      "|5664.0| 19.99|\n",
      "|7723.0|199.99|\n",
      "|8157.0|159.99|\n",
      "+------+------+\n",
      "only showing top 5 rows\n",
      "\n",
      "CPU times: total: 31.2 ms\n",
      "Wall time: 62.5 ms\n"
     ]
    }
   ],
   "source": [
    "#Equivalente a seleccionar solo columnas o filas\n",
    "#Equivalente a  colum_name_new= data_frame['name_Column']\n",
    "#colum_name_new y lo puedo restringir a que me muestre un numero finito o el total de todo el dataset\n",
    "df1.select('id', 'price').show(5)\n",
    "%time df1.select('id', 'price').show(5)\n"
   ]
  },
  {
   "cell_type": "code",
   "execution_count": 16,
   "id": "1282b754",
   "metadata": {},
   "outputs": [
    {
     "name": "stdout",
     "output_type": "stream",
     "text": [
      "CPU times: total: 0 ns\n",
      "Wall time: 384 ms\n"
     ]
    },
    {
     "data": {
      "text/plain": [
       "209707"
      ]
     },
     "execution_count": 16,
     "metadata": {},
     "output_type": "execute_result"
    }
   ],
   "source": [
    "df1.filter(df1.id > 9000).count()\n",
    "%time df1.filter(df1.id>9000).count()"
   ]
  },
  {
   "cell_type": "code",
   "execution_count": 19,
   "id": "c9720607",
   "metadata": {},
   "outputs": [
    {
     "name": "stdout",
     "output_type": "stream",
     "text": [
      "+---------+--------------------+-------+-----+--------------------+---------------+----------+-----------+------------+------------+------------------+--------------------+----------------+-----------+--------------------+------+--------+--------------------+--------------------+--------------------+\n",
      "|       id|               title|is_paid|price|            headline|num_subscribers|avg_rating|num_reviews|num_comments|num_lectures|content_length_min|      published_time|last_update_date|   category|         subcategory| topic|language|          course_url|     instructor_name|      instructor_url|\n",
      "+---------+--------------------+-------+-----+--------------------+---------------+----------+-----------+------------+------------+------------------+--------------------+----------------+-----------+--------------------+------+--------+--------------------+--------------------+--------------------+\n",
      "| 433798.0|Introduction To P...|  False|  0.0|A Quick and Easy ...|       783638.0|  4.437906|    62061.0|      8482.0|        56.0|             100.0|2015-03-02T01:23:00Z|      2020-07-29|Development|Programming Langu...|Python| English|/course/pythonfor...|        Avinash Jain| /user/avinashjain5/|\n",
      "| 663372.0|Learn Graphs and ...|  False|  0.0|This course is ab...|        33649.0|      3.95|      576.0|        86.0|        66.0|             384.0|2015-12-15T00:16:13Z|      2015-12-17|Development|Programming Langu...|Python| English|/course/graphs-an...|   Theophilus Siameh|/user/theophiluss...|\n",
      "|1353212.0|Python Hand-on So...|  False|  0.0|Most Complete Col...|        54879.0|       4.1|      452.0|        68.0|       200.0|              78.0|2017-09-20T23:42:46Z|      2017-12-14|Development|Programming Langu...|Python| English|/course/python-ha...|            Tan Pham|   /user/phamvantan/|\n",
      "|1413516.0|Learn Python for ...|  False|  0.0|From newbie to pr...|       145624.0| 4.3767605|     5391.0|       653.0|        52.0|             402.0|2017-11-08T00:25:58Z|      2018-09-26|Development|Programming Langu...|Python| English|/course/python-3-...|   Michael S Russell|/user/michael-s-r...|\n",
      "|1833400.0|Mastering Python:...|  False|  0.0|Ace Python from s...|          470.0|       4.6|       10.0|         2.0|        68.0|             109.0|2020-05-07T03:17:46Z|      2022-08-26|Development|Programming Langu...|Python| English|/course/mastering...|        Sai Charan J| /user/j-sai-charan/|\n",
      "|1841088.0|Python Programmin...|  False|  0.0|Introductory Cour...|        44282.0| 4.1538463|     1439.0|       206.0|        76.0|             180.0|2018-08-07T20:49:49Z|      2018-10-07|Development|Software Engineering|Python| English|/course/learn-pyt...|    Bordeianu Adrian|     /user/b-adrian/|\n",
      "|4861434.0|Learn Python in 2...|  False|  0.0|Python from scrat...|         1759.0| 3.9736843|       19.0|         9.0|        58.0|             118.0|2022-09-02T07:44:49Z|      2022-09-01|Development|Programming Langu...|Python| English|/course/learn-pyt...|Studyopedia Train...|  /user/studyopedia/|\n",
      "+---------+--------------------+-------+-----+--------------------+---------------+----------+-----------+------------+------------+------------------+--------------------+----------------+-----------+--------------------+------+--------+--------------------+--------------------+--------------------+\n",
      "\n",
      "CPU times: total: 0 ns\n",
      "Wall time: 0 ns\n"
     ]
    },
    {
     "data": {
      "text/plain": [
       "DataFrame[id: string, title: string, is_paid: string, price: string, headline: string, num_subscribers: string, avg_rating: string, num_reviews: string, num_comments: string, num_lectures: string, content_length_min: string, published_time: string, last_update_date: string, category: string, subcategory: string, topic: string, language: string, course_url: string, instructor_name: string, instructor_url: string]"
      ]
     },
     "execution_count": 19,
     "metadata": {},
     "output_type": "execute_result"
    }
   ],
   "source": [
    "#Equivalente a funciones anidadas en pandas\n",
    "from pyspark.sql import functions as F\n",
    "df2 = df1.filter((F.col('price') == 0) & (F.col('category') == \n",
    "'Development') & (F.col('topic') =='Python') & (F.col('language') == \n",
    "'English') & (F.col('num_lectures') > 50) | (F.col('num_subscribers') > 6000000))\n",
    "df2.count()\n",
    "df2.show()\n",
    "%time df2"
   ]
  },
  {
   "cell_type": "code",
   "execution_count": 21,
   "id": "79943aaf",
   "metadata": {},
   "outputs": [
    {
     "name": "stdout",
     "output_type": "stream",
     "text": [
      "+---+-----+-------+-----+--------+---------------+----------+-----------+------------+------------+------------------+--------------+----------------+--------+-----------+-----+--------+----------+---------------+--------------+\n",
      "| id|title|is_paid|price|headline|num_subscribers|avg_rating|num_reviews|num_comments|num_lectures|content_length_min|published_time|last_update_date|category|subcategory|topic|language|course_url|instructor_name|instructor_url|\n",
      "+---+-----+-------+-----+--------+---------------+----------+-----------+------------+------------+------------------+--------------+----------------+--------+-----------+-----+--------+----------+---------------+--------------+\n",
      "+---+-----+-------+-----+--------+---------------+----------+-----------+------------+------------+------------------+--------------+----------------+--------+-----------+-----+--------+----------+---------------+--------------+\n",
      "\n",
      "CPU times: total: 0 ns\n",
      "Wall time: 0 ns\n"
     ]
    },
    {
     "data": {
      "text/plain": [
       "DataFrame[id: string, title: string, is_paid: string, price: string, headline: string, num_subscribers: string, avg_rating: string, num_reviews: string, num_comments: string, num_lectures: string, content_length_min: string, published_time: string, last_update_date: string, category: string, subcategory: string, topic: string, language: string, course_url: string, instructor_name: string, instructor_url: string]"
      ]
     },
     "execution_count": 21,
     "metadata": {},
     "output_type": "execute_result"
    }
   ],
   "source": [
    "#Filtremos lo mas que podamos de forma que obtengamos una sola fila con todas \n",
    "#las columnas y que sea el equivalente en pandas\n",
    "from pyspark.sql import functions as F\n",
    "df2 = df1.filter((F.col('price') == 0) & (F.col('category') == \n",
    "'Development') & (F.col('topic') =='Python') & (F.col('language') == \n",
    "'English') & (F.col('num_lectures') > 50) & (F.col('num_subscribers') > 6000000))\n",
    "df2.count()\n",
    "df2.show()\n",
    "%time df2"
   ]
  },
  {
   "cell_type": "code",
   "execution_count": 28,
   "id": "c27e4ed3",
   "metadata": {},
   "outputs": [
    {
     "ename": "NameError",
     "evalue": "name 'sparksession' is not defined",
     "output_type": "error",
     "traceback": [
      "\u001b[1;31m---------------------------------------------------------------------------\u001b[0m",
      "\u001b[1;31mNameError\u001b[0m                                 Traceback (most recent call last)",
      "Cell \u001b[1;32mIn[28], line 7\u001b[0m\n\u001b[0;32m      4\u001b[0m plt\u001b[38;5;241m.\u001b[39mrcParams[\u001b[38;5;124m\"\u001b[39m\u001b[38;5;124mfigure.autolayout\u001b[39m\u001b[38;5;124m\"\u001b[39m] \u001b[38;5;241m=\u001b[39m \u001b[38;5;28;01mTrue\u001b[39;00m\n\u001b[0;32m      6\u001b[0m lista \u001b[38;5;241m=\u001b[39m [(\u001b[38;5;241m1\u001b[39m,\u001b[38;5;124m'\u001b[39m\u001b[38;5;124m100\u001b[39m\u001b[38;5;124m'\u001b[39m),(\u001b[38;5;241m2\u001b[39m,\u001b[38;5;124m'\u001b[39m\u001b[38;5;124m1000\u001b[39m\u001b[38;5;124m'\u001b[39m),(\u001b[38;5;241m3\u001b[39m,\u001b[38;5;124m'\u001b[39m\u001b[38;5;124m2000\u001b[39m\u001b[38;5;124m'\u001b[39m),(\u001b[38;5;241m4\u001b[39m,\u001b[38;5;124m'\u001b[39m\u001b[38;5;124m50000\u001b[39m\u001b[38;5;124m'\u001b[39m)]\n\u001b[1;32m----> 7\u001b[0m rdd \u001b[38;5;241m=\u001b[39m \u001b[43msparksession\u001b[49m\u001b[38;5;241m.\u001b[39mparallelize (lista)\n\u001b[0;32m      8\u001b[0m people \u001b[38;5;241m=\u001b[39m rdd\u001b[38;5;241m.\u001b[39mmap(\u001b[38;5;28;01mlambda\u001b[39;00m x: Row(\u001b[38;5;28mid\u001b[39m\u001b[38;5;241m=\u001b[39m\u001b[38;5;28mint\u001b[39m(x[\u001b[38;5;241m0\u001b[39m]), name\u001b[38;5;241m=\u001b[39mx[\u001b[38;5;241m1\u001b[39m]))\n\u001b[0;32m      9\u001b[0m schemaPeople \u001b[38;5;241m=\u001b[39m spark\u001b[38;5;241m.\u001b[39mcreate\u001b[38;5;241m.\u001b[39mDataFrame(people)\n",
      "\u001b[1;31mNameError\u001b[0m: name 'sparksession' is not defined"
     ]
    }
   ],
   "source": [
    "from pyspark.sql import Row\n",
    "import matplotlib.pyplot as plt\n",
    "plt.rcParams[\"figure.figsize\"] = [7.50, 3.50]\n",
    "plt.rcParams[\"figure.autolayout\"] = True\n",
    "\n",
    "lista = [(1,'100'),(2,'1000'),(3,'2000'),(4,'50000')]\n",
    "rdd = sparksession.parallelize (lista)\n",
    "people = rdd.map(lambda x: Row(id=int(x[0]), name=x[1]))\n",
    "schemaPeople = spark.create.DataFrame(people)\n",
    "df3 = df3.toPandas()\n",
    "df3.set_index('Grafica2').plot()\n",
    "plt.show()\n"
   ]
  },
  {
   "cell_type": "code",
   "execution_count": null,
   "id": "678b058c",
   "metadata": {},
   "outputs": [],
   "source": []
  }
 ],
 "metadata": {
  "kernelspec": {
   "display_name": "Python 3 (ipykernel)",
   "language": "python",
   "name": "python3"
  },
  "language_info": {
   "codemirror_mode": {
    "name": "ipython",
    "version": 3
   },
   "file_extension": ".py",
   "mimetype": "text/x-python",
   "name": "python",
   "nbconvert_exporter": "python",
   "pygments_lexer": "ipython3",
   "version": "3.9.15"
  }
 },
 "nbformat": 4,
 "nbformat_minor": 5
}
